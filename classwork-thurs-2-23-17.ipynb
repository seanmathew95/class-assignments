{
 "cells": [
  {
   "cell_type": "markdown",
   "metadata": {},
   "source": [
    "curl -s 'http://fishbase.org/Summary/SpeciesSummary.php?ID=4249&AT=starry+flounder' | grep \"Fisheries:\" | cut -d \";\" -f 1 | cut -d \":\" -f 2\n",
    "\n",
    "curl -s \"http://fishbase.org/Summary/SpeciesSummary.php?ID=[10-20]\" | grep \"Fisheries:\" | cut -d \";\" -f 1 | cut -d \":\" -f 2\n",
    "\n"
   ]
  },
  {
   "cell_type": "code",
   "execution_count": 3,
   "metadata": {
    "collapsed": false
   },
   "outputs": [
    {
     "ename": "SyntaxError",
     "evalue": "invalid syntax (<ipython-input-3-ec2a88f4eb19>, line 1)",
     "output_type": "error",
     "traceback": [
      "\u001b[0;36m  File \u001b[0;32m\"<ipython-input-3-ec2a88f4eb19>\"\u001b[0;36m, line \u001b[0;32m1\u001b[0m\n\u001b[0;31m    sudo apt_get install python_bs4\u001b[0m\n\u001b[0m               ^\u001b[0m\n\u001b[0;31mSyntaxError\u001b[0m\u001b[0;31m:\u001b[0m invalid syntax\n"
     ]
    }
   ],
   "source": [
    "sudo apt-get install python-bs4"
   ]
  },
  {
   "cell_type": "code",
   "execution_count": 18,
   "metadata": {
    "collapsed": false
   },
   "outputs": [],
   "source": [
    "import urllib.request\n",
    "from bs4 import BeautifulSoup"
   ]
  },
  {
   "cell_type": "code",
   "execution_count": 24,
   "metadata": {
    "collapsed": false
   },
   "outputs": [],
   "source": [
    "family_url = \"http://fishbase.org/Nomenclature/NominalSpeciesList.php?Family=Chimaeridae\"\n",
    "html = urllib.request.urlopen(family_url)\n",
    "html_doc = html.read()\n",
    "html.close()\n"
   ]
  },
  {
   "cell_type": "code",
   "execution_count": 25,
   "metadata": {
    "collapsed": false
   },
   "outputs": [
    {
     "name": "stderr",
     "output_type": "stream",
     "text": [
      "/home/eeb177-student/miniconda3/lib/python3.5/site-packages/bs4/__init__.py:181: UserWarning: No parser was explicitly specified, so I'm using the best available HTML parser for this system (\"html.parser\"). This usually isn't a problem, but if you run this code on another system, or in a different virtual environment, it may use a different parser and behave differently.\n",
      "\n",
      "The code that caused this warning is on line 184 of the file /home/eeb177-student/miniconda3/lib/python3.5/runpy.py. To get rid of this warning, change code that looks like this:\n",
      "\n",
      " BeautifulSoup([your markup])\n",
      "\n",
      "to this:\n",
      "\n",
      " BeautifulSoup([your markup], \"html.parser\")\n",
      "\n",
      "  markup_type=markup_type))\n"
     ]
    }
   ],
   "source": [
    "soup = BeautifulSoup(html_doc)"
   ]
  },
  {
   "cell_type": "code",
   "execution_count": 26,
   "metadata": {
    "collapsed": true
   },
   "outputs": [],
   "source": [
    "links = soup.find_all(\"a\")"
   ]
  },
  {
   "cell_type": "code",
   "execution_count": 27,
   "metadata": {
    "collapsed": false
   },
   "outputs": [
    {
     "name": "stdout",
     "output_type": "stream",
     "text": [
      "Hydrolagus affinis\n",
      "Hydrolagus affinis\n",
      "Hydrolagus africanus\n",
      "Hydrolagus alberti\n",
      "Hydrolagus alphus\n",
      "Chimaera monstrosa\n",
      "Chimaera monstrosa\n",
      "Chimaera argiloba\n",
      "Chimaera bahamaensis\n",
      "Hydrolagus barbouri\n",
      "Hydrolagus bemisi\n",
      "Chimaera monstrosa\n",
      "Hydrolagus colliei\n",
      "Chimaera monstrosa\n",
      "Chimaera cubana\n",
      "Hydrolagus deani\n",
      "Chimaera monstrosa\n",
      "Hydrolagus eidolon\n",
      "Chimaera fulva\n",
      "Hydrolagus purpurescens\n",
      "Hydrolagus homonycteris\n",
      "Chimaera jordani\n",
      "Hydrolagus lemures\n",
      "Chimaera lignaria\n",
      "Hydrolagus lusitanicus\n",
      "Hydrolagus macrophthalmus\n",
      "Chimaera macrospina\n",
      "Hydrolagus marmoratus\n",
      "Hydrolagus matallanasi\n",
      "Hydrolagus mccoskeri\n",
      "Hydrolagus colliei\n",
      "Chimaera monstrosa\n",
      "Hydrolagus melanophasma\n",
      "Hydrolagus mirabilis\n",
      "Hydrolagus mitsukurii\n",
      "Hydrolagus mitsukurii\n",
      "Chimaera monstrosa\n",
      "Hydrolagus novaezealandiae\n",
      "Hydrolagus colliei\n",
      "Chimaera notafricana\n",
      "Hydrolagus novaezealandiae\n",
      "Chimaera obscura\n",
      "Hydrolagus ogilbyi\n",
      "Chimaera opalescens\n",
      "Chimaera orientatis\n",
      "Chimaera owstoni\n",
      "Hydrolagus pallidus\n",
      "Chimaera panthera\n",
      "Chimaera phantasma\n",
      "Hydrolagus affinis\n",
      "Chimaera phantasma\n",
      "Hydrolagus eidolon\n",
      "Hydrolagus purpurescens\n",
      "Hydrolagus barbouri\n",
      "Hydrolagus trolli\n",
      "Hydrolagus ogilbyi\n",
      "Chimaera notafricana\n",
      "Hydrolagus waitei\n"
     ]
    }
   ],
   "source": [
    "for link in links:\n",
    "    italics = link.find_all(\"i\")\n",
    "    for italic in italics:\n",
    "        print(italic.string)\n",
    "        "
   ]
  },
  {
   "cell_type": "code",
   "execution_count": 41,
   "metadata": {
    "collapsed": false
   },
   "outputs": [],
   "source": [
    "import urllib.request\n",
    "import json\n",
    "\n",
    "api_url = \"https://fishbase.ropensci.org/species/?genus=Platichthys&species=stellatus\"\n",
    "\n",
    "raw_json = urllib.request.urlopen(api_url)\n",
    "decoded_json = raw_json.read().decode('utf-8')\n",
    "parsed_json = json.loads(decoded_json) ## we use the json.load method directly\n",
    "raw_json.close()\n"
   ]
  },
  {
   "cell_type": "code",
   "execution_count": 49,
   "metadata": {
    "collapsed": false
   },
   "outputs": [
    {
     "data": {
      "text/plain": [
       "91.0"
      ]
     },
     "execution_count": 49,
     "metadata": {},
     "output_type": "execute_result"
    }
   ],
   "source": [
    "parsed_json[\"data\"][0][\"Length\"]"
   ]
  },
  {
   "cell_type": "code",
   "execution_count": null,
   "metadata": {
    "collapsed": true
   },
   "outputs": [],
   "source": []
  }
 ],
 "metadata": {
  "anaconda-cloud": {},
  "kernelspec": {
   "display_name": "Python [default]",
   "language": "python",
   "name": "python3"
  },
  "language_info": {
   "codemirror_mode": {
    "name": "ipython",
    "version": 3
   },
   "file_extension": ".py",
   "mimetype": "text/x-python",
   "name": "python",
   "nbconvert_exporter": "python",
   "pygments_lexer": "ipython3",
   "version": "3.5.2"
  }
 },
 "nbformat": 4,
 "nbformat_minor": 2
}
