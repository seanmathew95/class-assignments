{
 "cells": [
  {
   "cell_type": "markdown",
   "metadata": {},
   "source": [
    "# 3/16/17 Presentation\n",
    "\n",
    "### Aditya Kantawala, Dinosauria\n",
    "Dinosaurs are probably ectotherms because they are closer to the equator\n",
    "\n",
    "### Justin Shieh, cetacae\n",
    "These animals were terrestrial at one point but now live in the water.\n",
    "\n",
    "### Sarah Kim, canis\n",
    "The Wolf event -> massive radiation of Canis in late pleistocene\n",
    "\n",
    "### Christina Zhou, chiroptera\n",
    "There are 1300 species of bats alive today, 2nd most abundant after rodents\n",
    "\n",
    "### Gayane Hovsepyan, autism\n",
    "More severe cases of autism are identified earlier in age\n",
    "\n",
    "### Roxana Nojoumi, equidae\n",
    "Highest density of horses are found in North America and Europe\n",
    "\n",
    "### Cooper Kass, seagrass\n",
    "Seagrass has very recently become an invasive species\n",
    "\n",
    "### Jeffrey Lee, canidae\n",
    "Canids are decreasing in diversity through time\n",
    "\n",
    "### Laura Trejo, neotropical birds\n",
    "Why are these birds restricted to the tropical areas\n",
    "\n",
    "### Jin Kim, aves\n",
    "What influences the long range of the two species studied?\n",
    "\n",
    "### Marina Salama,  anura\n",
    "Frogs are the most abundant of the amphibians\n",
    "\n",
    "### Erin Solis, heteromyidae\n",
    "There is an extinction in the group that has been occurring for the past couple million years\n",
    "\n",
    "### Sean Mathew <- ME\n",
    "\n",
    "### Tiffany Dang, Mustelidae\n",
    "This is the largest family of carnivores"
   ]
  },
  {
   "cell_type": "code",
   "execution_count": null,
   "metadata": {
    "collapsed": true
   },
   "outputs": [],
   "source": []
  }
 ],
 "metadata": {
  "anaconda-cloud": {},
  "kernelspec": {
   "display_name": "Python [default]",
   "language": "python",
   "name": "python3"
  },
  "language_info": {
   "codemirror_mode": {
    "name": "ipython",
    "version": 3
   },
   "file_extension": ".py",
   "mimetype": "text/x-python",
   "name": "python",
   "nbconvert_exporter": "python",
   "pygments_lexer": "ipython3",
   "version": "3.5.2"
  }
 },
 "nbformat": 4,
 "nbformat_minor": 2
}
