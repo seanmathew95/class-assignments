{
 "cells": [
  {
   "cell_type": "code",
   "execution_count": 11,
   "metadata": {
    "collapsed": false
   },
   "outputs": [
    {
     "data": {
      "text/plain": [
       "'atcttct'"
      ]
     },
     "execution_count": 11,
     "metadata": {},
     "output_type": "execute_result"
    }
   ],
   "source": [
    "seq = \"ATCTTCT\"\n",
    "seq = seq.replace(\"A\", \"a\")\n",
    "seq = seq.replace(\"T\", \"t\")\n",
    "seq = seq.replace(\"C\", \"c\")\n",
    "seq\n"
   ]
  },
  {
   "cell_type": "code",
   "execution_count": 13,
   "metadata": {
    "collapsed": false
   },
   "outputs": [
    {
     "name": "stdout",
     "output_type": "stream",
     "text": [
      "This string has 5 characters\n",
      "This string has 7 characters\n",
      "33\n"
     ]
    }
   ],
   "source": [
    "def stringAnalyzer (ss):\n",
    "    length = len(ss)\n",
    "    yy = 26\n",
    "    zz =yy + length\n",
    "    print(\"This string has {} characters\" .format(length))\n",
    "    return zz\n",
    "stringAnalyzer(\"hello\")\n",
    "longer_length = stringAnalyzer(seq)\n",
    "print(longer_length)"
   ]
  },
  {
   "cell_type": "raw",
   "metadata": {},
   "source": [
    "def greeter():\n",
    "    print(\"Welcome!\")\n",
    "greeter()"
   ]
  },
  {
   "cell_type": "code",
   "execution_count": 48,
   "metadata": {
    "collapsed": false
   },
   "outputs": [
    {
     "name": "stdout",
     "output_type": "stream",
     "text": [
      "[27, 10, 5, 0.56]\n",
      "[18, 9, 9, 1.0]\n",
      "[17, 7, 8, 0.88]\n",
      "[17, 6, 4, 0.58824]\n"
     ]
    },
    {
     "data": {
      "text/plain": [
       "0.6"
      ]
     },
     "execution_count": 48,
     "metadata": {},
     "output_type": "execute_result"
    }
   ],
   "source": [
    "def get_at_content(dna, num=2):\n",
    "    length =len(dna)\n",
    "    a_count = dna.count(\"A\") + dna.count(\"a\")\n",
    "    t_count = dna.upper().count(\"T\")\n",
    "    at_content = round(((a_count + t_count)/length), num)\n",
    "    dnalist= [length, a_count, t_count, at_content]\n",
    "    return dnalist\n",
    "\n",
    "print(get_at_content(\"AATATAGACAGATGGTGACCCGGGATA\"))\n",
    "print(get_at_content(\"AATATTATATATATATAT\"))\n",
    "print(get_at_content(\"AATATTATATTTATACG\"))\n",
    "print(get_at_content(\"atatacgcgaggatgat\",5))\n",
    "res=get_at_content(\"AGAGATTCAGTAG\",1)\n",
    "res[-1]"
   ]
  },
  {
   "cell_type": "code",
   "execution_count": 30,
   "metadata": {
    "collapsed": false
   },
   "outputs": [
    {
     "data": {
      "text/plain": [
       "{'A': 6, 'C': 6, 'G': 6, 'T': 5}"
      ]
     },
     "execution_count": 30,
     "metadata": {},
     "output_type": "execute_result"
    }
   ],
   "source": [
    "#write a function that counts the number of As, Ts, Gs, and Cs\n",
    "def letter_counter(dna):\n",
    "    dna=dna.upper()\n",
    "    dna_dict={}\n",
    "    for letter in [\"A\", \"T\", \"C\", \"G\"]:\n",
    "        count = dna.count(letter)\n",
    "        dna_dict[letter]=count\n",
    "    return dna_dict\n",
    "letter_counter(\"atataagctgacgcgctgtcagc\")"
   ]
  },
  {
   "cell_type": "code",
   "execution_count": 37,
   "metadata": {
    "collapsed": false
   },
   "outputs": [
    {
     "data": {
      "text/plain": [
       "12132"
      ]
     },
     "execution_count": 37,
     "metadata": {},
     "output_type": "execute_result"
    }
   ],
   "source": []
  },
  {
   "cell_type": "code",
   "execution_count": null,
   "metadata": {
    "collapsed": true
   },
   "outputs": [],
   "source": []
  }
 ],
 "metadata": {
  "anaconda-cloud": {},
  "kernelspec": {
   "display_name": "Python [default]",
   "language": "python",
   "name": "python3"
  },
  "language_info": {
   "codemirror_mode": {
    "name": "ipython",
    "version": 3
   },
   "file_extension": ".py",
   "mimetype": "text/x-python",
   "name": "python",
   "nbconvert_exporter": "python",
   "pygments_lexer": "ipython3",
   "version": "3.5.2"
  }
 },
 "nbformat": 4,
 "nbformat_minor": 2
}
