{
 "cells": [
  {
   "cell_type": "code",
   "execution_count": 11,
   "metadata": {
    "collapsed": false
   },
   "outputs": [
    {
     "data": {
      "text/plain": [
       "'atcttct'"
      ]
     },
     "execution_count": 11,
     "metadata": {},
     "output_type": "execute_result"
    }
   ],
   "source": [
    "seq = \"ATCTTCT\"\n",
    "seq = seq.replace(\"A\", \"a\")\n",
    "seq = seq.replace(\"T\", \"t\")\n",
    "seq = seq.replace(\"C\", \"c\")\n",
    "seq\n"
   ]
  },
  {
   "cell_type": "code",
   "execution_count": 13,
   "metadata": {
    "collapsed": false
   },
   "outputs": [
    {
     "name": "stdout",
     "output_type": "stream",
     "text": [
      "This string has 5 characters\n",
      "This string has 7 characters\n",
      "33\n"
     ]
    }
   ],
   "source": [
    "def stringAnalyzer (ss):\n",
    "    length = len(ss)\n",
    "    yy = 26\n",
    "    zz =yy + length\n",
    "    print(\"This string has {} characters\" .format(length))\n",
    "    return zz\n",
    "stringAnalyzer(\"hello\")\n",
    "longer_length = stringAnalyzer(seq)\n",
    "print(longer_length)"
   ]
  },
  {
   "cell_type": "raw",
   "metadata": {},
   "source": [
    "def greeter():\n",
    "    print(\"Welcome!\")\n",
    "greeter()"
   ]
  },
  {
   "cell_type": "code",
   "execution_count": 22,
   "metadata": {
    "collapsed": false
   },
   "outputs": [
    {
     "data": {
      "text/plain": [
       "0.5882352941176471"
      ]
     },
     "execution_count": 22,
     "metadata": {},
     "output_type": "execute_result"
    }
   ],
   "source": [
    "def get_at_content(dna):\n",
    "    length =len(dna)\n",
    "    a_count = dna.count(\"A\") + dna.count(\"a\")\n",
    "    t_count = dna.upper().count(\"T\")\n",
    "    at_content = (a_count + t_count)/length\n",
    "    return at_content\n",
    "get_at_content(\"AATATAGACAGATGGTGACCCGGGATA\")\n",
    "get_at_content(\"AATATTATATATATATAT\")\n",
    "get_at_content(\"AATATTATATTTATACG\")\n",
    "get_at_content(\"atatacgcgaggatgat\")"
   ]
  },
  {
   "cell_type": "code",
   "execution_count": 27,
   "metadata": {
    "collapsed": false
   },
   "outputs": [
    {
     "data": {
      "text/plain": [
       "dict_keys(['C', 'T', 'G', 'A'])"
      ]
     },
     "execution_count": 27,
     "metadata": {},
     "output_type": "execute_result"
    }
   ],
   "source": [
    "#write a function that counts the number of As, Ts, Gs, and Cs\n",
    "def letter_counter(dna):\n",
    "    dna.upper()\n",
    "    dna_dict={}\n",
    "    for letter in [\"A\", \"T\", \"C\", \"G\"]:\n",
    "        count = dna.count(letter)\n",
    "        dna_dict[letter]=count\n",
    "    return dna_dict\n",
    "letter_counter(\"ATATACGGCAGCGAT\").keys()"
   ]
  },
  {
   "cell_type": "code",
   "execution_count": null,
   "metadata": {
    "collapsed": true
   },
   "outputs": [],
   "source": []
  }
 ],
 "metadata": {
  "anaconda-cloud": {},
  "kernelspec": {
   "display_name": "Python [default]",
   "language": "python",
   "name": "python3"
  },
  "language_info": {
   "codemirror_mode": {
    "name": "ipython",
    "version": 3
   },
   "file_extension": ".py",
   "mimetype": "text/x-python",
   "name": "python",
   "nbconvert_exporter": "python",
   "pygments_lexer": "ipython3",
   "version": "3.5.2"
  }
 },
 "nbformat": 4,
 "nbformat_minor": 2
}
