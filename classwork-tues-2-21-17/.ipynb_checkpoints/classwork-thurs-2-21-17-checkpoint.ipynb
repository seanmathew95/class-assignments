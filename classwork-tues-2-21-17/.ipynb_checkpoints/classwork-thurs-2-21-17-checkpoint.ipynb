{
 "cells": [
  {
   "cell_type": "markdown",
   "metadata": {
    "collapsed": true
   },
   "source": [
    "mv cocoli.zip ../Desktop/eeb-177/class-assignments/classwork-tues-2-21-17/cocoli.zip\n",
    "unzip cocoli.zip\n",
    "see cocoli_files.doc\n",
    "gedit cocoli.txt\n",
    "gedit cocolisp.txt\n",
    "\n",
    "each row in cocoli.txt represents a different tree\n",
    "\n",
    "each row in cocolisp.txt represents a different species of tree"
   ]
  }
 ],
 "metadata": {
  "anaconda-cloud": {},
  "kernelspec": {
   "display_name": "Python [default]",
   "language": "python",
   "name": "python3"
  },
  "language_info": {
   "codemirror_mode": {
    "name": "ipython",
    "version": 3
   },
   "file_extension": ".py",
   "mimetype": "text/x-python",
   "name": "python",
   "nbconvert_exporter": "python",
   "pygments_lexer": "ipython3",
   "version": "3.5.2"
  }
 },
 "nbformat": 4,
 "nbformat_minor": 2
}
