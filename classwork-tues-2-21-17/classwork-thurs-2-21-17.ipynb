{
 "cells": [
  {
   "cell_type": "markdown",
   "metadata": {
    "collapsed": true
   },
   "source": [
    "mv cocoli.zip ../Desktop/eeb-177/class-assignments/classwork-tues-2-21-17/cocoli.zip\n",
    "\n",
    "unzip cocoli.zip\n",
    "\n",
    "see cocoli_files.doc\n",
    "\n",
    "gedit cocoli.txt\n",
    "\n",
    "gedit cocolisp.txt\n",
    "\n",
    "each row in cocoli.txt represents a different tree\n",
    "\n",
    "each row in cocolisp.txt represents a different species of tree\n",
    "\n",
    "dbh2 refers to the diameter at breast height of the biggest stem in the second round of collections\n",
    "\n",
    "multi2 refers to the number of stems the plant has at 1.3 m in the second round of collections\n",
    "\n",
    "we can look at the code CAL2CA and find it in the cocolisp.txt file using command: grep \"CAL2CA\" cocolisp.txt\n",
    "\n",
    "the genus and species name is Calycophyllum candidissimum\n",
    "\n",
    "Individual 000001 kept growing over the three collection times\n",
    "\n",
    "Individual 000020 was alive in 1994, but died by the second collection time (in 1997)\n",
    "\n",
    "sed 's/\\s/,/g' cocoli.txt > formatted_cocoli.txt\n",
    "\n",
    "To find most species-rich genera, command: tail -n +2 formatted_cocolisp.txt | cut -d ',' -f 2 | sort | uniq -c | sort -n| tail -n 1\n",
    "**Answer: Piper, 7 species**\n",
    "\n",
    "To find how many genera have one species, command: tail -n +2 formatted_cocolisp.txt | cut -d ',' -f 2 | sort | uniq -c | sort -n | grep \"1\" | wc -l\n",
    "**Answer: 98**\n",
    "\n"
   ]
  },
  {
   "cell_type": "code",
   "execution_count": null,
   "metadata": {
    "collapsed": true
   },
   "outputs": [],
   "source": []
  }
 ],
 "metadata": {
  "anaconda-cloud": {},
  "kernelspec": {
   "display_name": "Python [default]",
   "language": "python",
   "name": "python3"
  },
  "language_info": {
   "codemirror_mode": {
    "name": "ipython",
    "version": 3
   },
   "file_extension": ".py",
   "mimetype": "text/x-python",
   "name": "python",
   "nbconvert_exporter": "python",
   "pygments_lexer": "ipython3",
   "version": "3.5.2"
  }
 },
 "nbformat": 4,
 "nbformat_minor": 2
}
