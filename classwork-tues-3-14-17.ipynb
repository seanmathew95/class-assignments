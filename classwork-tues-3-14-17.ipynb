{
 "cells": [
  {
   "cell_type": "markdown",
   "metadata": {},
   "source": [
    "# 3/14/17 Presentations\n",
    "\n",
    "Kelsey Jiang, Selachii Diversity\n",
    "Did you notice any specific trends in the PyRate graphs?\n",
    "\n",
    "Dominique Castro, Canis Diversity\n",
    "Is the Canis that you graphed a species or the entire genus itself?\n",
    "\n",
    "Linna Sun, Proboscidea\n",
    "Why is there such a loss of diversity in recent times?\n",
    "\n",
    "Ashen Parikh, reaction times\n",
    "How do they record reaction time?\n",
    "\n",
    "Matthew, Valley Oak\n",
    "What is bootstrapping?\n",
    "\n",
    "Yi, squamata\n",
    "Which environments seemed to be harmful for squamata?\n",
    "\n",
    "Antonella Gonzalez, Aligatoridae\n",
    "Why has the Mississippi aligator survived so long?\n",
    "\n",
    "Kristen Lee, Pilosa\n",
    "What is the one species in Central Asia?\n",
    "\n",
    "Madison Downing, mammals and birds\n",
    "Where is the most interraction between mammals and birds?\n",
    "\n",
    "Youstina, haplorhini\n",
    "How can you explain the increased diversity towards recent times?\n",
    "\n",
    "Jeremy Wadowski, Heart rate\n",
    "Were most people under their metabolic rate?\n",
    "\n",
    "Mehdi Nojoumi, Avian atherosclorosis\n",
    "Did you have any criteria of choosing one representative per group?\n",
    "\n",
    "Junghoon Kim, circadian rhythm of german cockroach\n",
    "How did you measure the circadian rhythms?\n",
    "\n",
    "Dustin Wong, Feliformia\n",
    "Where does the smilidon fall in time periods?\n",
    "\n",
    "Hyein Kil, Ducks\n",
    "How can you tell which species dicverged from which?"
   ]
  }
 ],
 "metadata": {
  "anaconda-cloud": {},
  "kernelspec": {
   "display_name": "Python [default]",
   "language": "python",
   "name": "python3"
  },
  "language_info": {
   "codemirror_mode": {
    "name": "ipython",
    "version": 3
   },
   "file_extension": ".py",
   "mimetype": "text/x-python",
   "name": "python",
   "nbconvert_exporter": "python",
   "pygments_lexer": "ipython3",
   "version": "3.5.2"
  }
 },
 "nbformat": 4,
 "nbformat_minor": 2
}
